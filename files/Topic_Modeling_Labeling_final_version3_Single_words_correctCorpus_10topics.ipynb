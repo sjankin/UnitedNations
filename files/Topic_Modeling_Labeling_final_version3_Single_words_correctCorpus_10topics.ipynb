{
 "cells": [
  {
   "cell_type": "markdown",
   "metadata": {},
   "source": [
    "# Automatic labelling of topics for United Nations General Debate Corpus (UNGDC) "
   ]
  },
  {
   "cell_type": "markdown",
   "metadata": {},
   "source": [
    "This program consists of two parts: First, the topics occurring in United Nations General Debate Corpus (UNGDC) are discovered.\n",
    "Second, the discovered topics are automatically labelled using the pipeline offered as part of the publication \n",
    "“Automatic labelling of topics using neural embeddings” by Bhatia et al in 2016.\n",
    "\n",
    "In the first part, using Gensim library in Python, an LDA model is trained on the corpus and semantic coherence measure\n",
    "is used to find an optimal number of topics. The program outputs the optimal number of topics along with their 10 most frequent\n",
    "words.\n",
    "\n",
    "In the second part, the discovered topic along with their 10 most frequent words is fed to the pipeline in a .csv file.\n",
    "Each line in the file  contains the topic id (here: 0 to 10) along with top n (here 10) words. The path to this file is updated in get_labels.py.\n",
    "\n",
    "Finally, the get_labels.py should should be run by typing \"python get_labels.py -cg –us -s ” in the command prompt.\n",
    "It will give you candidate labels in a file with unsupervised and supervised labels printed on the console as well as in output files.\n",
    "By default output files namely output_candidates, output_unsupervised, and output_supervised will be created in the same directory.\n",
    "\n"
   ]
  },
  {
   "cell_type": "markdown",
   "metadata": {},
   "source": [
    "# Import the required packages\n"
   ]
  },
  {
   "cell_type": "code",
   "execution_count": 4,
   "metadata": {},
   "outputs": [],
   "source": [
    "#Some pieces of codes were taken from:https://datascienceplus.com/evaluation-of-topic-modeling-topic-coherence/\n",
    "from pprint import pprint\n",
    "import numpy as np\n",
    "import os,re\n",
    "import pyLDAvis.gensim\n",
    "import warnings\n",
    "warnings.filterwarnings('ignore')  # To ignore all warnings that arise here to enhance clarity\n",
    "\n",
    "from gensim.models.coherencemodel import CoherenceModel\n",
    "from gensim.models.ldamodel import LdaModel\n",
    "from gensim.corpora.dictionary import Dictionary\n",
    "from numpy import array"
   ]
  },
  {
   "cell_type": "markdown",
   "metadata": {},
   "source": [
    "# Import the dataset\n",
    "In this part, the corpus is read into a list (docs). Each file in the corpus is an element in this list.\n"
   ]
  },
  {
   "cell_type": "code",
   "execution_count": 5,
   "metadata": {},
   "outputs": [
    {
     "name": "stdout",
     "output_type": "stream",
     "text": [
      "7871\n"
     ]
    }
   ],
   "source": [
    "docs=[]\n",
    "pattern='^[A-Z]{3}_[0-9]{2}_[0-9]{4}.txt$'\n",
    "path='C:/UN/'\n",
    "for (dirname, dirs, files) in os.walk(path):\n",
    "   for filename in files:\n",
    "        thefile = os.path.join(dirname,filename)\n",
    "        with open (thefile,encoding='utf8',errors='ignore') as fin:\n",
    "             if re.match(pattern, filename):\n",
    "\n",
    "                doc=fin.read().strip('\\n\\t')\n",
    "                docs.append(doc)       \n",
    "print(len(docs))\n"
   ]
  },
  {
   "cell_type": "markdown",
   "metadata": {},
   "source": [
    "# Define a function for tokenizing and lemmatizing\n",
    "In this part, some pre-processing is done on the corpus to get rid of the words that useful information, such as function words like the, or digits. The corpus is also lemmatized to avoid sparsity."
   ]
  },
  {
   "cell_type": "code",
   "execution_count": 6,
   "metadata": {},
   "outputs": [],
   "source": [
    "from nltk.stem.wordnet import WordNetLemmatizer\n",
    "from nltk.tokenize import RegexpTokenizer\n",
    "\n",
    "def docs_preprocessor(docs):\n",
    "    tokenizer = RegexpTokenizer(r'\\w+')\n",
    "    for idx in range(len(docs)):\n",
    "        docs[idx] = docs[idx].lower()  # Convert to lowercase.\n",
    "        docs[idx] = tokenizer.tokenize(docs[idx])  # Split into words.\n",
    "\n",
    "    # Remove numbers, but not words that contain numbers.\n",
    "    docs = [[token for token in doc if not token.isdigit()] for doc in docs]\n",
    "    \n",
    "    # Remove words that are only one character.\n",
    "    docs = [[token for token in doc if len(token) > 3] for doc in docs]\n",
    "    \n",
    "    # Lemmatize all words in documents.\n",
    "    lemmatizer = WordNetLemmatizer()\n",
    "    docs = [[lemmatizer.lemmatize(token) for token in doc] for doc in docs]\n",
    "  \n",
    "    return docs\n",
    "# Perform function on our document\n",
    "docs = docs_preprocessor(docs)\n"
   ]
  },
  {
   "cell_type": "markdown",
   "metadata": {},
   "source": [
    "# Remove rare & common tokens "
   ]
  },
  {
   "cell_type": "code",
   "execution_count": 7,
   "metadata": {},
   "outputs": [
    {
     "name": "stdout",
     "output_type": "stream",
     "text": [
      "Number of unique tokens: 15319\n",
      "Number of documents: 7871\n"
     ]
    }
   ],
   "source": [
    "# Create a dictionary representation of the documents.\n",
    "dictionary = Dictionary(docs)\n",
    "dictionary.filter_extremes(no_below=10, no_above=0.2)\n",
    "#Create dictionary and corpus required for Topic Modeling\n",
    "corpus = [dictionary.doc2bow(doc) for doc in docs]\n",
    "print('Number of unique tokens: %d' % len(dictionary))\n",
    "print('Number of documents: %d' % len(corpus))"
   ]
  },
  {
   "cell_type": "markdown",
   "metadata": {},
   "source": [
    "# Build The Model"
   ]
  },
  {
   "cell_type": "code",
   "execution_count": 8,
   "metadata": {},
   "outputs": [
    {
     "name": "stdout",
     "output_type": "stream",
     "text": [
      "[(0, '0.008*\"ukraine\" + 0.006*\"bosnia\" + 0.005*\"herzegovina\" + 0.005*\"azerbaijan\" + 0.005*\"georgia\" + 0.005*\"kosovo\" + 0.005*\"russia\" + 0.005*\"korean\" + 0.004*\"balkan\" + 0.004*\"serbia\"'), (1, '0.003*\"humankind\" + 0.003*\"cuba\" + 0.003*\"congo\" + 0.003*\"mali\" + 0.003*\"young\" + 0.003*\"burundi\" + 0.002*\"mexico\" + 0.002*\"everyone\" + 0.002*\"haiti\" + 0.002*\"trafficking\"'), (2, '0.011*\"syria\" + 0.008*\"syrian\" + 0.007*\"islamic\" + 0.007*\"sudan\" + 0.005*\"libya\" + 0.005*\"somalia\" + 0.005*\"iraqi\" + 0.004*\"pakistan\" + 0.004*\"yemen\" + 0.004*\"kingdom\"'), (3, '0.004*\"viet\" + 0.003*\"colonialism\" + 0.003*\"kampuchea\" + 0.003*\"racist\" + 0.002*\"ecuador\" + 0.002*\"detente\" + 0.002*\"super\" + 0.002*\"paraguay\" + 0.002*\"zimbabwe\" + 0.002*\"peru\"'), (4, '0.004*\"pacific\" + 0.003*\"caribbean\" + 0.003*\"sixty\" + 0.002*\"mdgs\" + 0.002*\"globalization\" + 0.002*\"inclusive\" + 0.002*\"japan\" + 0.002*\"commend\" + 0.002*\"gender\" + 0.002*\"theme\"')]\n"
     ]
    }
   ],
   "source": [
    "# Set parameters.\n",
    "num_topics = 5\n",
    "chunksize = 500 \n",
    "passes = 20 \n",
    "iterations = 400\n",
    "eval_every = 1  \n",
    "\n",
    "# Make a index to word dictionary.\n",
    "temp = dictionary[0]  # only to \"load\" the dictionary.\n",
    "id2word = dictionary.id2token\n",
    "\n",
    "lda_model = LdaModel(corpus=corpus, id2word=id2word, chunksize=chunksize, \\\n",
    "                       alpha='auto', eta='auto', \\\n",
    "                       iterations=iterations, num_topics=num_topics, \\\n",
    "                       passes=passes, eval_every=eval_every)\n",
    "# Print the Keyword in the 5 topics\n",
    "print(lda_model.print_topics())"
   ]
  },
  {
   "cell_type": "markdown",
   "metadata": {},
   "source": [
    "# Find the optimal number of topics"
   ]
  },
  {
   "cell_type": "code",
   "execution_count": 76,
   "metadata": {},
   "outputs": [],
   "source": [
    "#Using c_v Measure\n",
    "def compute_coherence_values(dictionary, corpus, texts, limit, start=10, step=5):\n",
    "    \"\"\"\n",
    "    Compute c_v coherence for various number of topics\n",
    "\n",
    "    Parameters:\n",
    "    ----------\n",
    "    dictionary : Gensim dictionary\n",
    "    corpus : Gensim corpus\n",
    "    texts : List of input texts\n",
    "    limit : Max num of topics\n",
    "\n",
    "    Returns:\n",
    "    -------\n",
    "    model_list : List of LDA topic models\n",
    "    coherence_values : Coherence values corresponding to the LDA model with respective number of topics\n",
    "    \"\"\"\n",
    "    coherence_values = []\n",
    "    model_list = []\n",
    "    for num_topics in range(start, limit, step):\n",
    "        model=LdaModel(corpus=corpus, id2word=dictionary, num_topics=num_topics)\n",
    "        model_list.append(model)\n",
    "        coherencemodel = CoherenceModel(model=model, texts=texts, dictionary=dictionary, coherence='c_v')\n",
    "        coherence_values.append(coherencemodel.get_coherence())\n",
    "\n",
    "    return model_list, coherence_values\n"
   ]
  },
  {
   "cell_type": "markdown",
   "metadata": {},
   "source": [
    "# Create a model list and plot Coherence score against a number of topics"
   ]
  },
  {
   "cell_type": "code",
   "execution_count": 77,
   "metadata": {},
   "outputs": [
    {
     "data": {
      "image/png": "[encoded data removed]",
      "text/plain": [
       "<Figure size 432x288 with 1 Axes>"
      ]
     },
     "metadata": {
      "needs_background": "light"
     },
     "output_type": "display_data"
    }
   ],
   "source": [
    "model_list, coherence_values = compute_coherence_values(dictionary=dictionary, corpus=corpus, texts=docs, start=10, limit=50, step=5)\n",
    "# Show graph\n",
    "import matplotlib.pyplot as plt\n",
    "limit=50; start=10; step=5;\n",
    "x = range(start, limit, step)\n",
    "plt.plot(x, coherence_values)\n",
    "plt.xlabel(\"Num Topics\")\n",
    "plt.ylabel(\"Coherence score\")\n",
    "plt.legend((\"coherence_values\"), loc='best')\n",
    "plt.show()"
   ]
  },
  {
   "cell_type": "markdown",
   "metadata": {},
   "source": [
    "The above plot shows that coherence score increases with the number of topics, with a decline after 15. so 15 is a decent choice for the number of topics."
   ]
  },
  {
   "cell_type": "code",
   "execution_count": 78,
   "metadata": {},
   "outputs": [
    {
     "name": "stdout",
     "output_type": "stream",
     "text": [
      "Num Topics = 10  has Coherence Value of 0.3924\n",
      "Num Topics = 15  has Coherence Value of 0.3325\n",
      "Num Topics = 20  has Coherence Value of 0.3579\n",
      "Num Topics = 25  has Coherence Value of 0.3715\n",
      "Num Topics = 30  has Coherence Value of 0.3835\n",
      "Num Topics = 35  has Coherence Value of 0.3799\n",
      "Num Topics = 40  has Coherence Value of 0.3706\n",
      "Num Topics = 45  has Coherence Value of 0.3827\n"
     ]
    }
   ],
   "source": [
    "# Print the coherence scores\n",
    "for m, cv in zip(x, coherence_values):\n",
    "    print(\"Num Topics =\", m, \" has Coherence Value of\", round(cv, 4))"
   ]
  },
  {
   "cell_type": "markdown",
   "metadata": {},
   "source": [
    "# Selecting The Optimal Model"
   ]
  },
  {
   "cell_type": "code",
   "execution_count": 79,
   "metadata": {
    "scrolled": true
   },
   "outputs": [
    {
     "name": "stdout",
     "output_type": "stream",
     "text": [
      "[(0,\n",
      "  '0.005*\"sudan\" + 0.003*\"syria\" + 0.002*\"darfur\" + 0.002*\"humankind\" + '\n",
      "  '0.002*\"mexico\" + 0.002*\"venezuela\" + 0.002*\"guatemala\" + 0.002*\"young\" + '\n",
      "  '0.002*\"chad\" + 0.002*\"religion\"'),\n",
      " (1,\n",
      "  '0.003*\"globalization\" + 0.002*\"georgia\" + 0.002*\"somalia\" + '\n",
      "  '0.002*\"azerbaijan\" + 0.002*\"bosnia\" + 0.002*\"herzegovina\" + '\n",
      "  '0.002*\"inclusive\" + 0.002*\"humankind\" + 0.002*\"croatia\" + 0.002*\"gender\"'),\n",
      " (2,\n",
      "  '0.006*\"syria\" + 0.004*\"syrian\" + 0.004*\"mali\" + 0.003*\"somalia\" + '\n",
      "  '0.003*\"sixty\" + 0.003*\"morocco\" + 0.002*\"humankind\" + 0.002*\"kingdom\" + '\n",
      "  '0.002*\"tunisia\" + 0.002*\"extremism\"'),\n",
      " (3,\n",
      "  '0.009*\"ukraine\" + 0.007*\"kosovo\" + 0.006*\"korean\" + 0.005*\"serbia\" + '\n",
      "  '0.005*\"albania\" + 0.004*\"thailand\" + 0.004*\"bulgaria\" + 0.004*\"peninsula\" + '\n",
      "  '0.004*\"asean\" + 0.004*\"balkan\"'),\n",
      " (4,\n",
      "  '0.008*\"caribbean\" + 0.005*\"haiti\" + 0.005*\"sids\" + 0.003*\"saint\" + '\n",
      "  '0.003*\"barbados\" + 0.003*\"trinidad\" + 0.003*\"tobago\" + 0.003*\"grenada\" + '\n",
      "  '0.002*\"bahamas\" + 0.002*\"belize\"'),\n",
      " (5,\n",
      "  '0.005*\"congo\" + 0.005*\"burundi\" + 0.003*\"rwanda\" + 0.003*\"mauritius\" + '\n",
      "  '0.002*\"benin\" + 0.002*\"zambia\" + 0.002*\"comoros\" + 0.002*\"tanzania\" + '\n",
      "  '0.002*\"excellency\" + 0.002*\"brazil\"'),\n",
      " (6,\n",
      "  '0.009*\"pakistan\" + 0.006*\"india\" + 0.005*\"cyprus\" + 0.004*\"afghan\" + '\n",
      "  '0.004*\"turkey\" + 0.003*\"cypriot\" + 0.003*\"turkish\" + 0.003*\"islamic\" + '\n",
      "  '0.002*\"muslim\" + 0.002*\"lanka\"'),\n",
      " (7,\n",
      "  '0.009*\"japan\" + 0.004*\"romania\" + 0.003*\"canada\" + 0.003*\"greece\" + '\n",
      "  '0.003*\"panama\" + 0.003*\"poland\" + 0.003*\"russia\" + 0.003*\"cyprus\" + '\n",
      "  '0.003*\"slovakia\" + 0.003*\"austria\"'),\n",
      " (8,\n",
      "  '0.009*\"pacific\" + 0.005*\"guinea\" + 0.003*\"solomon\" + 0.003*\"fiji\" + '\n",
      "  '0.003*\"globalization\" + 0.003*\"sierra\" + 0.003*\"leone\" + 0.002*\"taiwan\" + '\n",
      "  '0.002*\"papua\" + 0.002*\"libya\"'),\n",
      " (9,\n",
      "  '0.004*\"cuba\" + 0.003*\"caribbean\" + 0.002*\"guinea\" + 0.002*\"saint\" + '\n",
      "  '0.002*\"dominica\" + 0.002*\"barbuda\" + 0.002*\"eritrea\" + 0.001*\"income\" + '\n",
      "  '0.001*\"pacific\" + 0.001*\"colombia\"')]\n"
     ]
    }
   ],
   "source": [
    "#finding the number of topics that gives the highest Coherence Value \n",
    "max_cv=max(coherence_values)\n",
    "#finding the index of the model with this numnber of topics\n",
    "index_model=coherence_values.index(max_cv)\n",
    "#print(index_model)\n",
    "# Select the model and print the topics \n",
    "optimal_model = model_list[index_model]\n",
    "#model_topics = optimal_model.show_topics(formatted=False)\n",
    "pprint(optimal_model.print_topics(num_words=10))"
   ]
  },
  {
   "cell_type": "markdown",
   "metadata": {
    "collapsed": true
   },
   "source": [
    "# Writing the topics along with the 10 most frequent words in a file"
   ]
  },
  {
   "cell_type": "code",
   "execution_count": 80,
   "metadata": {},
   "outputs": [],
   "source": [
    "import re\n",
    "with open('c:/UNT/Topics_UN.csv','w') as fw:\n",
    "    fw.write(\"topic_id,term0,term1,term2,term3,term4,term5,term6,term7,term8,term9\"+\"\\n\")\n",
    "    for i in optimal_model.print_topics():\n",
    "        r1 = re.findall(r\"\\w+\",i[1])\n",
    "        line=str(i[0])\n",
    "        for item in r1:\n",
    "            if not item.isdigit():\n",
    "                line=line+','+item\n",
    "        fw.write(line+'\\n')"
   ]
  },
  {
   "cell_type": "markdown",
   "metadata": {},
   "source": [
    "# Displaying the file"
   ]
  },
  {
   "cell_type": "code",
   "execution_count": 81,
   "metadata": {},
   "outputs": [
    {
     "data": {
      "text/html": [
       "<div>\n",
       "<style scoped>\n",
       "    .dataframe tbody tr th:only-of-type {\n",
       "        vertical-align: middle;\n",
       "    }\n",
       "\n",
       "    .dataframe tbody tr th {\n",
       "        vertical-align: top;\n",
       "    }\n",
       "\n",
       "    .dataframe thead th {\n",
       "        text-align: right;\n",
       "    }\n",
       "</style>\n",
       "<table border=\"1\" class=\"dataframe\">\n",
       "  <thead>\n",
       "    <tr style=\"text-align: right;\">\n",
       "      <th></th>\n",
       "      <th>topic_id</th>\n",
       "      <th>term0</th>\n",
       "      <th>term1</th>\n",
       "      <th>term2</th>\n",
       "      <th>term3</th>\n",
       "      <th>term4</th>\n",
       "      <th>term5</th>\n",
       "      <th>term6</th>\n",
       "      <th>term7</th>\n",
       "      <th>term8</th>\n",
       "      <th>term9</th>\n",
       "    </tr>\n",
       "  </thead>\n",
       "  <tbody>\n",
       "    <tr>\n",
       "      <th>0</th>\n",
       "      <td>0</td>\n",
       "      <td>sudan</td>\n",
       "      <td>syria</td>\n",
       "      <td>darfur</td>\n",
       "      <td>humankind</td>\n",
       "      <td>mexico</td>\n",
       "      <td>venezuela</td>\n",
       "      <td>guatemala</td>\n",
       "      <td>young</td>\n",
       "      <td>chad</td>\n",
       "      <td>religion</td>\n",
       "    </tr>\n",
       "    <tr>\n",
       "      <th>1</th>\n",
       "      <td>1</td>\n",
       "      <td>globalization</td>\n",
       "      <td>georgia</td>\n",
       "      <td>somalia</td>\n",
       "      <td>azerbaijan</td>\n",
       "      <td>bosnia</td>\n",
       "      <td>herzegovina</td>\n",
       "      <td>inclusive</td>\n",
       "      <td>humankind</td>\n",
       "      <td>croatia</td>\n",
       "      <td>gender</td>\n",
       "    </tr>\n",
       "    <tr>\n",
       "      <th>2</th>\n",
       "      <td>2</td>\n",
       "      <td>syria</td>\n",
       "      <td>syrian</td>\n",
       "      <td>mali</td>\n",
       "      <td>somalia</td>\n",
       "      <td>sixty</td>\n",
       "      <td>morocco</td>\n",
       "      <td>humankind</td>\n",
       "      <td>kingdom</td>\n",
       "      <td>tunisia</td>\n",
       "      <td>extremism</td>\n",
       "    </tr>\n",
       "    <tr>\n",
       "      <th>3</th>\n",
       "      <td>3</td>\n",
       "      <td>ukraine</td>\n",
       "      <td>kosovo</td>\n",
       "      <td>korean</td>\n",
       "      <td>serbia</td>\n",
       "      <td>albania</td>\n",
       "      <td>thailand</td>\n",
       "      <td>bulgaria</td>\n",
       "      <td>peninsula</td>\n",
       "      <td>asean</td>\n",
       "      <td>balkan</td>\n",
       "    </tr>\n",
       "    <tr>\n",
       "      <th>4</th>\n",
       "      <td>4</td>\n",
       "      <td>caribbean</td>\n",
       "      <td>haiti</td>\n",
       "      <td>sids</td>\n",
       "      <td>saint</td>\n",
       "      <td>barbados</td>\n",
       "      <td>trinidad</td>\n",
       "      <td>tobago</td>\n",
       "      <td>grenada</td>\n",
       "      <td>bahamas</td>\n",
       "      <td>belize</td>\n",
       "    </tr>\n",
       "    <tr>\n",
       "      <th>5</th>\n",
       "      <td>5</td>\n",
       "      <td>congo</td>\n",
       "      <td>burundi</td>\n",
       "      <td>rwanda</td>\n",
       "      <td>mauritius</td>\n",
       "      <td>benin</td>\n",
       "      <td>zambia</td>\n",
       "      <td>comoros</td>\n",
       "      <td>tanzania</td>\n",
       "      <td>excellency</td>\n",
       "      <td>brazil</td>\n",
       "    </tr>\n",
       "    <tr>\n",
       "      <th>6</th>\n",
       "      <td>6</td>\n",
       "      <td>pakistan</td>\n",
       "      <td>india</td>\n",
       "      <td>cyprus</td>\n",
       "      <td>afghan</td>\n",
       "      <td>turkey</td>\n",
       "      <td>cypriot</td>\n",
       "      <td>turkish</td>\n",
       "      <td>islamic</td>\n",
       "      <td>muslim</td>\n",
       "      <td>lanka</td>\n",
       "    </tr>\n",
       "    <tr>\n",
       "      <th>7</th>\n",
       "      <td>7</td>\n",
       "      <td>japan</td>\n",
       "      <td>romania</td>\n",
       "      <td>canada</td>\n",
       "      <td>greece</td>\n",
       "      <td>panama</td>\n",
       "      <td>poland</td>\n",
       "      <td>russia</td>\n",
       "      <td>cyprus</td>\n",
       "      <td>slovakia</td>\n",
       "      <td>austria</td>\n",
       "    </tr>\n",
       "    <tr>\n",
       "      <th>8</th>\n",
       "      <td>8</td>\n",
       "      <td>pacific</td>\n",
       "      <td>guinea</td>\n",
       "      <td>solomon</td>\n",
       "      <td>fiji</td>\n",
       "      <td>globalization</td>\n",
       "      <td>sierra</td>\n",
       "      <td>leone</td>\n",
       "      <td>taiwan</td>\n",
       "      <td>papua</td>\n",
       "      <td>libya</td>\n",
       "    </tr>\n",
       "    <tr>\n",
       "      <th>9</th>\n",
       "      <td>9</td>\n",
       "      <td>cuba</td>\n",
       "      <td>caribbean</td>\n",
       "      <td>guinea</td>\n",
       "      <td>saint</td>\n",
       "      <td>dominica</td>\n",
       "      <td>barbuda</td>\n",
       "      <td>eritrea</td>\n",
       "      <td>income</td>\n",
       "      <td>pacific</td>\n",
       "      <td>colombia</td>\n",
       "    </tr>\n",
       "  </tbody>\n",
       "</table>\n",
       "</div>"
      ],
      "text/plain": [
       "   topic_id          term0      term1    term2       term3          term4  \\\n",
       "0         0          sudan      syria   darfur   humankind         mexico   \n",
       "1         1  globalization    georgia  somalia  azerbaijan         bosnia   \n",
       "2         2          syria     syrian     mali     somalia          sixty   \n",
       "3         3        ukraine     kosovo   korean      serbia        albania   \n",
       "4         4      caribbean      haiti     sids       saint       barbados   \n",
       "5         5          congo    burundi   rwanda   mauritius          benin   \n",
       "6         6       pakistan      india   cyprus      afghan         turkey   \n",
       "7         7          japan    romania   canada      greece         panama   \n",
       "8         8        pacific     guinea  solomon        fiji  globalization   \n",
       "9         9           cuba  caribbean   guinea       saint       dominica   \n",
       "\n",
       "         term5      term6      term7       term8      term9  \n",
       "0    venezuela  guatemala      young        chad   religion  \n",
       "1  herzegovina  inclusive  humankind     croatia     gender  \n",
       "2      morocco  humankind    kingdom     tunisia  extremism  \n",
       "3     thailand   bulgaria  peninsula       asean     balkan  \n",
       "4     trinidad     tobago    grenada     bahamas     belize  \n",
       "5       zambia    comoros   tanzania  excellency     brazil  \n",
       "6      cypriot    turkish    islamic      muslim      lanka  \n",
       "7       poland     russia     cyprus    slovakia    austria  \n",
       "8       sierra      leone     taiwan       papua      libya  \n",
       "9      barbuda    eritrea     income     pacific   colombia  "
      ]
     },
     "metadata": {},
     "output_type": "display_data"
    }
   ],
   "source": [
    "from IPython.display import display\n",
    "import pandas\n",
    "df = pandas.read_csv(\"c:/UNT/Topics_UN.csv\")\n",
    "display(df)"
   ]
  },
  {
   "cell_type": "markdown",
   "metadata": {},
   "source": [
    "This file is a csv file. Each line of the file contains a topic id along with 10 most common words for the topic."
   ]
  },
  {
   "cell_type": "markdown",
   "metadata": {
    "collapsed": true
   },
   "source": [
    "# The file is fed to the paper's model and the Unsupervised Labels are:"
   ]
  },
  {
   "cell_type": "code",
   "execution_count": 84,
   "metadata": {},
   "outputs": [
    {
     "data": {
      "text/html": [
       "<div>\n",
       "<style scoped>\n",
       "    .dataframe tbody tr th:only-of-type {\n",
       "        vertical-align: middle;\n",
       "    }\n",
       "\n",
       "    .dataframe tbody tr th {\n",
       "        vertical-align: top;\n",
       "    }\n",
       "\n",
       "    .dataframe thead th {\n",
       "        text-align: right;\n",
       "    }\n",
       "</style>\n",
       "<table border=\"1\" class=\"dataframe\">\n",
       "  <thead>\n",
       "    <tr style=\"text-align: right;\">\n",
       "      <th></th>\n",
       "      <th>Topic_id</th>\n",
       "      <th>Label_1</th>\n",
       "      <th>Label_2</th>\n",
       "      <th>Label_3</th>\n",
       "    </tr>\n",
       "  </thead>\n",
       "  <tbody>\n",
       "    <tr>\n",
       "      <th>0</th>\n",
       "      <td>0</td>\n",
       "      <td>guatemala</td>\n",
       "      <td>sudan</td>\n",
       "      <td>sudan_(region)</td>\n",
       "    </tr>\n",
       "    <tr>\n",
       "      <th>1</th>\n",
       "      <td>1</td>\n",
       "      <td>herzegovina</td>\n",
       "      <td>croatia</td>\n",
       "      <td>bosniaks</td>\n",
       "    </tr>\n",
       "    <tr>\n",
       "      <th>2</th>\n",
       "      <td>2</td>\n",
       "      <td>syria</td>\n",
       "      <td>morocco</td>\n",
       "      <td>tunisia</td>\n",
       "    </tr>\n",
       "    <tr>\n",
       "      <th>3</th>\n",
       "      <td>3</td>\n",
       "      <td>bulgaria</td>\n",
       "      <td>ukraine</td>\n",
       "      <td>albania</td>\n",
       "    </tr>\n",
       "    <tr>\n",
       "      <th>4</th>\n",
       "      <td>4</td>\n",
       "      <td>caribbean</td>\n",
       "      <td>barbados</td>\n",
       "      <td>grenada</td>\n",
       "    </tr>\n",
       "    <tr>\n",
       "      <th>5</th>\n",
       "      <td>5</td>\n",
       "      <td>tanzania</td>\n",
       "      <td>zambia</td>\n",
       "      <td>rwanda</td>\n",
       "    </tr>\n",
       "    <tr>\n",
       "      <th>6</th>\n",
       "      <td>6</td>\n",
       "      <td>turkish_cypriots</td>\n",
       "      <td>turkey</td>\n",
       "      <td>pakistan</td>\n",
       "    </tr>\n",
       "    <tr>\n",
       "      <th>7</th>\n",
       "      <td>7</td>\n",
       "      <td>russia</td>\n",
       "      <td>slovakia</td>\n",
       "      <td>romania</td>\n",
       "    </tr>\n",
       "    <tr>\n",
       "      <th>8</th>\n",
       "      <td>8</td>\n",
       "      <td>sierra_leone</td>\n",
       "      <td>papua_new_guinea</td>\n",
       "      <td>fiji</td>\n",
       "    </tr>\n",
       "    <tr>\n",
       "      <th>9</th>\n",
       "      <td>9</td>\n",
       "      <td>dominica</td>\n",
       "      <td>dominican_republic</td>\n",
       "      <td>antigua_and_barbuda</td>\n",
       "    </tr>\n",
       "  </tbody>\n",
       "</table>\n",
       "</div>"
      ],
      "text/plain": [
       "   Topic_id           Label_1             Label_2              Label_3\n",
       "0         0         guatemala               sudan       sudan_(region)\n",
       "1         1       herzegovina             croatia             bosniaks\n",
       "2         2             syria             morocco              tunisia\n",
       "3         3          bulgaria             ukraine              albania\n",
       "4         4         caribbean            barbados              grenada\n",
       "5         5          tanzania              zambia               rwanda\n",
       "6         6  turkish_cypriots              turkey             pakistan\n",
       "7         7            russia            slovakia              romania\n",
       "8         8      sierra_leone    papua_new_guinea                 fiji\n",
       "9         9          dominica  dominican_republic  antigua_and_barbuda"
      ]
     },
     "metadata": {},
     "output_type": "display_data"
    }
   ],
   "source": [
    "#The Labels are saved into a file named output_unsupervised.txt\n",
    "#The following code changes the file into CSV format to be shown here\n",
    "with open(\"C:/Labels/output_unsupervised.txt\") as fi:\n",
    "    content=fi.read().strip().split(\"top 3 labels for topic\")\n",
    "\n",
    "with open (\"C:/Labels/Labels_unsupervised.txt\",\"w\") as fw:\n",
    "    fw.write(\"Topic_id,Label_1,Label_2,Label_3\"+'\\n')\n",
    "    Topic_id=0\n",
    "    for i in content:\n",
    "       i=i.split('\\n')\n",
    "       if len(i)>3:         \n",
    "         fw.write(str(Topic_id)+','+i[1]+','+i[2]+','+i[3]+'\\n')\n",
    "         Topic_id+=1\n",
    "    \n",
    "df = pandas.read_csv(\"C:/Labels/Labels_unsupervised.txt\")\n",
    "display(df)"
   ]
  },
  {
   "cell_type": "markdown",
   "metadata": {},
   "source": [
    "# The file is fed to the paper's model and the supervised Labels are:"
   ]
  },
  {
   "cell_type": "code",
   "execution_count": 92,
   "metadata": {},
   "outputs": [
    {
     "data": {
      "text/html": [
       "<div>\n",
       "<style scoped>\n",
       "    .dataframe tbody tr th:only-of-type {\n",
       "        vertical-align: middle;\n",
       "    }\n",
       "\n",
       "    .dataframe tbody tr th {\n",
       "        vertical-align: top;\n",
       "    }\n",
       "\n",
       "    .dataframe thead th {\n",
       "        text-align: right;\n",
       "    }\n",
       "</style>\n",
       "<table border=\"1\" class=\"dataframe\">\n",
       "  <thead>\n",
       "    <tr style=\"text-align: right;\">\n",
       "      <th></th>\n",
       "      <th>Topic_id</th>\n",
       "      <th>Label_1</th>\n",
       "      <th>Label_2</th>\n",
       "      <th>Label_3</th>\n",
       "    </tr>\n",
       "  </thead>\n",
       "  <tbody>\n",
       "    <tr>\n",
       "      <th>0</th>\n",
       "      <td>0</td>\n",
       "      <td>guatemala</td>\n",
       "      <td>sudan</td>\n",
       "      <td>sudan_(region)</td>\n",
       "    </tr>\n",
       "    <tr>\n",
       "      <th>1</th>\n",
       "      <td>1</td>\n",
       "      <td>croatia</td>\n",
       "      <td>herzegovina</td>\n",
       "      <td>serbia</td>\n",
       "    </tr>\n",
       "    <tr>\n",
       "      <th>2</th>\n",
       "      <td>2</td>\n",
       "      <td>syria</td>\n",
       "      <td>tunisia</td>\n",
       "      <td>morocco</td>\n",
       "    </tr>\n",
       "    <tr>\n",
       "      <th>3</th>\n",
       "      <td>3</td>\n",
       "      <td>bulgaria</td>\n",
       "      <td>albania</td>\n",
       "      <td>ukraine</td>\n",
       "    </tr>\n",
       "    <tr>\n",
       "      <th>4</th>\n",
       "      <td>4</td>\n",
       "      <td>caribbean</td>\n",
       "      <td>barbados</td>\n",
       "      <td>grenada</td>\n",
       "    </tr>\n",
       "    <tr>\n",
       "      <th>5</th>\n",
       "      <td>5</td>\n",
       "      <td>tanzania</td>\n",
       "      <td>zambia</td>\n",
       "      <td>rwanda</td>\n",
       "    </tr>\n",
       "    <tr>\n",
       "      <th>6</th>\n",
       "      <td>6</td>\n",
       "      <td>turkey</td>\n",
       "      <td>pakistan</td>\n",
       "      <td>turkish_cypriots</td>\n",
       "    </tr>\n",
       "    <tr>\n",
       "      <th>7</th>\n",
       "      <td>7</td>\n",
       "      <td>russia</td>\n",
       "      <td>romania</td>\n",
       "      <td>poland</td>\n",
       "    </tr>\n",
       "    <tr>\n",
       "      <th>8</th>\n",
       "      <td>8</td>\n",
       "      <td>sierra_leone</td>\n",
       "      <td>papua_new_guinea</td>\n",
       "      <td>fiji</td>\n",
       "    </tr>\n",
       "    <tr>\n",
       "      <th>9</th>\n",
       "      <td>9</td>\n",
       "      <td>dominica</td>\n",
       "      <td>antigua_and_barbuda</td>\n",
       "      <td>saint_lucia</td>\n",
       "    </tr>\n",
       "  </tbody>\n",
       "</table>\n",
       "</div>"
      ],
      "text/plain": [
       "   Topic_id       Label_1              Label_2           Label_3\n",
       "0         0     guatemala                sudan    sudan_(region)\n",
       "1         1       croatia          herzegovina            serbia\n",
       "2         2         syria              tunisia           morocco\n",
       "3         3      bulgaria              albania           ukraine\n",
       "4         4     caribbean             barbados           grenada\n",
       "5         5      tanzania               zambia            rwanda\n",
       "6         6        turkey             pakistan  turkish_cypriots\n",
       "7         7        russia              romania            poland\n",
       "8         8  sierra_leone     papua_new_guinea              fiji\n",
       "9         9      dominica  antigua_and_barbuda       saint_lucia"
      ]
     },
     "metadata": {},
     "output_type": "display_data"
    }
   ],
   "source": [
    "#The Labels are saved into a file named output_supervised.txt\n",
    "#The following code changes the file into CSV format to be shown here\n",
    "with open(\"C:/Labels/output_supervised.txt\") as fi:\n",
    "    content=fi.read().strip().split(\"Top 3 labels for topic\")\n",
    "\n",
    "with open (\"C:/Labels/Labels_supervised.txt\",\"w\") as fw:\n",
    "    fw.write(\"Topic_id,Label_1,Label_2,Label_3\"+'\\n')\n",
    "    Topic_id=0\n",
    "    for i in content:\n",
    "       i=i.split('\\n')\n",
    "       if len(i)>3:         \n",
    "         fw.write(str(Topic_id)+','+i[1]+','+i[2]+','+i[3]+'\\n')\n",
    "         Topic_id+=1\n",
    "    \n",
    "df = pandas.read_csv(\"C:/Labels/Labels_supervised.txt\")\n",
    "display(df)"
   ]
  },
  {
   "cell_type": "markdown",
   "metadata": {
    "collapsed": true
   },
   "source": [
    "The Labels are produced using a neural embedding approach and Wikipedia titles. Each Wikipedia title is represented by two embeddings: doc2vec and word2vec. \n",
    "\n",
    "The doc2vec embedding of a title is the embedding of the document the label is associated with and its word2vec embedding is the result of generating word embeddings for the title. To this end, titles are treated as a single token (e.g. concatenating financial crisis into financial_crisis) and then the text of all of the Wikipedia articles are greedily tokenized, and the word embeddings for the tokens are built using SkipGram algorithm.\n",
    "\n",
    "In order to generate labels, first, the relevant candidates are generated and then ranked.\n",
    "\n",
    " To generate the candidates, given a topic, the cosine similarity between the title embeddings (generated by either doc2vec or word2vec) and each of the word embeddings for the top-10 topic terms is calculated and aggregated by taking the arithmetic mean. The title which yields the highest similarity score is selected as the most relevant label for the topic.\n",
    " \n",
    "\n",
    "The generated labels are stored in a file called output_candidates and ranked in two fashions:\n",
    "\n",
    "1- Unsueprvised: where the only feature used to rank labels is LetterTrigram (Kou et al., 2015)\n",
    "\n",
    "2-The generated candidates are ranked by a support vector regression model (SVR: Joachims (2006) which is trained over four features using a gold standard order of candidates. The first two features are extracted using two algorithms, LetterTrigram (Kou et al., 2015) and PageRank (Page et al., 1998; the last two features are NumWords, which is simply the number of words in the candidate label (for example developing country has 2 words); and (2) TopicOverlap, which is the lexical overlap between the candidate label and the top-10 topic terms.\n"
   ]
  },
  {
   "cell_type": "code",
   "execution_count": null,
   "metadata": {
    "collapsed": true
   },
   "outputs": [],
   "source": []
  }
 ],
 "metadata": {
  "kernelspec": {
   "display_name": "Python 3",
   "language": "python",
   "name": "python3"
  },
  "language_info": {
   "codemirror_mode": {
    "name": "ipython",
    "version": 3
   },
   "file_extension": ".py",
   "mimetype": "text/x-python",
   "name": "python",
   "nbconvert_exporter": "python",
   "pygments_lexer": "ipython3",
   "version": "3.7.0"
  }
 },
 "nbformat": 4,
 "nbformat_minor": 2
}
